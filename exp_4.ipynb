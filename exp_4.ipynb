{
  "nbformat": 4,
  "nbformat_minor": 0,
  "metadata": {
    "colab": {
      "provenance": []
    },
    "kernelspec": {
      "name": "python3",
      "display_name": "Python 3"
    },
    "language_info": {
      "name": "python"
    }
  },
  "cells": [
    {
      "cell_type": "code",
      "execution_count": null,
      "metadata": {
        "id": "52DqElmaUwSD"
      },
      "outputs": [],
      "source": [
        "import numpy as np\n",
        "X = np.array([[0, 0],\n",
        "              [0, 1],\n",
        "              [1, 0],\n",
        "              [1, 1]])\n"
      ]
    },
    {
      "cell_type": "code",
      "source": [
        "Y = np.array([0, 0, 0, 1])\n",
        "w = np.array([0.3, -0.2])\n",
        "theta=0.4\n",
        "lr=0.2\n",
        "epochs=5\n",
        "print(f\"Initial weights:{w},theta={theta},lr={lr}\\n\")\n",
        "\n"
      ],
      "metadata": {
        "colab": {
          "base_uri": "https://localhost:8080/"
        },
        "id": "oizZAuDNU5E8",
        "outputId": "10b1dc71-1493-4e6e-a956-824db75e5783"
      },
      "execution_count": null,
      "outputs": [
        {
          "output_type": "stream",
          "name": "stdout",
          "text": [
            "Initial weights:[ 0.3 -0.2],theta=0.4,lr=0.2\n",
            "\n"
          ]
        }
      ]
    },
    {
      "cell_type": "code",
      "source": [
        "for epoch in range(1, epochs+1):\n",
        "  print(f\"---Epoch {epoch} ---\")\n",
        "  print(f\"x1\\tx2\\ty_des\\ty_est\\terror\\tw1\\tw2\")\n",
        "  error_count = 0\n",
        "  for i in range(len(X)):\n",
        "    x=X[i]\n",
        "    y_des=Y[i]\n",
        "\n",
        "    net = np.dot(x, w) + theta\n",
        "    y_est=1 if net>=0 else 0\n",
        "    error = y_des-y_est\n",
        "    if error != 0:\n",
        "      w = w + lr * error * x\n",
        "      error_count += 1\n",
        "    print(f\"{x[0]}\\t{x[1]}\\t{y_des}\\t{y_est}\\t{error}\\t{w[0]:.1f}\\t{w[1]:.1f}\")\n",
        "\n",
        "  if error_count == 0:\n",
        "    print(\"\\nTraining complete!\")\n",
        "    break\n"
      ],
      "metadata": {
        "colab": {
          "base_uri": "https://localhost:8080/"
        },
        "id": "a1DeAhQMU9bj",
        "outputId": "102b73fb-b665-48d1-ce79-c692e30cf1e2"
      },
      "execution_count": null,
      "outputs": [
        {
          "output_type": "stream",
          "name": "stdout",
          "text": [
            "---Epoch 1 ---\n",
            "x1\tx2\ty_des\ty_est\terror\tw1\tw2\n",
            "0\t0\t0\t1\t-1\t0.3\t-0.2\n",
            "0\t1\t0\t1\t-1\t0.3\t-0.4\n",
            "1\t0\t0\t1\t-1\t0.1\t-0.4\n",
            "1\t1\t1\t1\t0\t0.1\t-0.4\n",
            "---Epoch 2 ---\n",
            "x1\tx2\ty_des\ty_est\terror\tw1\tw2\n",
            "0\t0\t0\t1\t-1\t0.1\t-0.4\n",
            "0\t1\t0\t1\t-1\t0.1\t-0.6\n",
            "1\t0\t0\t1\t-1\t-0.1\t-0.6\n",
            "1\t1\t1\t0\t1\t0.1\t-0.4\n",
            "---Epoch 3 ---\n",
            "x1\tx2\ty_des\ty_est\terror\tw1\tw2\n",
            "0\t0\t0\t1\t-1\t0.1\t-0.4\n",
            "0\t1\t0\t0\t0\t0.1\t-0.4\n",
            "1\t0\t0\t1\t-1\t-0.1\t-0.4\n",
            "1\t1\t1\t0\t1\t0.1\t-0.2\n",
            "---Epoch 4 ---\n",
            "x1\tx2\ty_des\ty_est\terror\tw1\tw2\n",
            "0\t0\t0\t1\t-1\t0.1\t-0.2\n",
            "0\t1\t0\t1\t-1\t0.1\t-0.4\n",
            "1\t0\t0\t1\t-1\t-0.1\t-0.4\n",
            "1\t1\t1\t0\t1\t0.1\t-0.2\n",
            "---Epoch 5 ---\n",
            "x1\tx2\ty_des\ty_est\terror\tw1\tw2\n",
            "0\t0\t0\t1\t-1\t0.1\t-0.2\n",
            "0\t1\t0\t1\t-1\t0.1\t-0.4\n",
            "1\t0\t0\t1\t-1\t-0.1\t-0.4\n",
            "1\t1\t1\t0\t1\t0.1\t-0.2\n"
          ]
        }
      ]
    },
    {
      "cell_type": "code",
      "source": [
        "print(\"\\nFinal perceptron outputs:\")\n",
        "for i in range(len(X)):\n",
        "  x=X[i]\n",
        "  net = np.dot(x, w) + theta\n",
        "  y_est=1 if net>=0 else 0\n",
        "  print(f\"Input {x}->Net={round(net,1)},Yest={y_est},Ydes={Y[i]}\")\n"
      ],
      "metadata": {
        "colab": {
          "base_uri": "https://localhost:8080/"
        },
        "id": "XFSGVq5EVLQ0",
        "outputId": "3fe813e4-6afd-43f5-b692-29f6944d42fb"
      },
      "execution_count": null,
      "outputs": [
        {
          "output_type": "stream",
          "name": "stdout",
          "text": [
            "\n",
            "Final perceptron outputs:\n",
            "Input [0 0]->Net=0.4,Yest=1,Ydes=0\n",
            "Input [0 1]->Net=0.2,Yest=1,Ydes=0\n",
            "Input [1 0]->Net=0.5,Yest=1,Ydes=0\n",
            "Input [1 1]->Net=0.3,Yest=1,Ydes=1\n"
          ]
        }
      ]
    },
    {
      "cell_type": "markdown",
      "source": [],
      "metadata": {
        "id": "FJug7mcYVB2U"
      }
    }
  ]
}