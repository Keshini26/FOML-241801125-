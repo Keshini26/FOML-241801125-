{
 "cells": [
  {
   "cell_type": "code",
   "execution_count": 16,
   "id": "a4876b27-d980-49ef-a146-73a770a615b7",
   "metadata": {},
   "outputs": [
    {
     "name": "stdout",
     "output_type": "stream",
     "text": [
      "0    10\n",
      "1    20\n",
      "2    30\n",
      "3    40\n",
      "4    50\n",
      "dtype: int64\n"
     ]
    }
   ],
   "source": [
    "import pandas as pd\n",
    "data = [10,20,30,40,50]\n",
    "series=pd.Series(data)\n",
    "print(series)\n"
   ]
  },
  {
   "cell_type": "code",
   "execution_count": 17,
   "id": "43d4431f-5adf-4929-82d7-0b0679bfbded",
   "metadata": {},
   "outputs": [
    {
     "name": "stdout",
     "output_type": "stream",
     "text": [
      "x    1\n",
      "y    7\n",
      "z    2\n",
      "dtype: int64\n"
     ]
    }
   ],
   "source": [
    "a=[1,7,2]\n",
    "myvar=pd.Series(a,index=[\"x\",\"y\",\"z\"])\n",
    "print(myvar)"
   ]
  },
  {
   "cell_type": "code",
   "execution_count": 18,
   "id": "617a93f4-de93-472c-9194-14e932994e01",
   "metadata": {},
   "outputs": [
    {
     "name": "stdout",
     "output_type": "stream",
     "text": [
      "series>25=\n",
      " 0    False\n",
      "1    False\n",
      "2     True\n",
      "3     True\n",
      "4     True\n",
      "dtype: bool\n",
      "Filtered Series:\n",
      " 2    30\n",
      "3    40\n",
      "4    50\n",
      "dtype: int64\n",
      "\n",
      "Series after Scalar Multiplication:\n",
      " 0     20\n",
      "1     40\n",
      "2     60\n",
      "3     80\n",
      "4    100\n",
      "dtype: int64\n"
     ]
    }
   ],
   "source": [
    "gt=series>25\n",
    "print(\"series>25=\\n\",gt)\n",
    "series_filtered=series[series>25]\n",
    "print(\"Filtered Series:\\n\",series_filtered)\n",
    "series_multiplied=series*2\n",
    "print(\"\\nSeries after Scalar Multiplication:\\n\",series_multiplied)"
   ]
  },
  {
   "cell_type": "code",
   "execution_count": 19,
   "id": "a49d2510-c62e-4813-ae92-1e3afd2b7e8b",
   "metadata": {},
   "outputs": [
    {
     "name": "stdout",
     "output_type": "stream",
     "text": [
      "   calories  duration\n",
      "0       420        50\n",
      "1       380        40\n",
      "2       390        45\n"
     ]
    }
   ],
   "source": [
    "data={\n",
    "    \"calories\":[420,380,390],\n",
    "    \"duration\":[50,40,45]\n",
    "}\n",
    "df=pd.DataFrame(data)\n",
    "print(df)"
   ]
  },
  {
   "cell_type": "code",
   "execution_count": 20,
   "id": "f257783e-7912-444e-8ee1-ed32874a753a",
   "metadata": {},
   "outputs": [
    {
     "name": "stdout",
     "output_type": "stream",
     "text": [
      "    state  year  pop\n",
      "0    ohio  2000  1.5\n",
      "1    ohio  2001  1.7\n",
      "2    ohio  2002  3.6\n",
      "3  nevada  2001  2.4\n",
      "4  nevada  2002  2.9\n",
      "5  nevada  2003  3.2\n"
     ]
    }
   ],
   "source": [
    "data={'state':['ohio','ohio','ohio','nevada','nevada','nevada'],\n",
    "      'year':[2000,2001,2002,2001,2002,2003],\n",
    "      'pop':[1.5,1.7,3.6,2.4,2.9,3.2]}\n",
    "frame=pd.DataFrame(data)\n",
    "print(frame)"
   ]
  },
  {
   "cell_type": "code",
   "execution_count": 21,
   "id": "f1c2ac21-e7ef-461a-8763-41198b723c5e",
   "metadata": {},
   "outputs": [
    {
     "name": "stdout",
     "output_type": "stream",
     "text": [
      "   year   state  pop\n",
      "0  2000    ohio  1.5\n",
      "1  2001    ohio  1.7\n",
      "2  2002    ohio  3.6\n",
      "3  2001  nevada  2.4\n",
      "4  2002  nevada  2.9\n",
      "5  2003  nevada  3.2\n"
     ]
    }
   ],
   "source": [
    "frame=pd.DataFrame(data,columns=['year','state','pop'])\n",
    "print(frame)"
   ]
  },
  {
   "cell_type": "code",
   "execution_count": 22,
   "id": "3bcad5fc-c9c1-4f80-b0f3-9655d764b688",
   "metadata": {},
   "outputs": [
    {
     "name": "stdout",
     "output_type": "stream",
     "text": [
      "       year   state  pop debt\n",
      "one    2000    ohio  1.5  NaN\n",
      "two    2001    ohio  1.7  NaN\n",
      "three  2002    ohio  3.6  NaN\n",
      "four   2001  nevada  2.4  NaN\n",
      "five   2002  nevada  2.9  NaN\n",
      "six    2003  nevada  3.2  NaN\n"
     ]
    }
   ],
   "source": [
    "frame2=pd.DataFrame(data,columns=['year','state','pop','debt'],index=['one','two','three','four','five','six'])\n",
    "print(frame2)"
   ]
  },
  {
   "cell_type": "code",
   "execution_count": 23,
   "id": "e656d03d-d92b-47d4-8e81-764f4953b024",
   "metadata": {},
   "outputs": [
    {
     "name": "stdout",
     "output_type": "stream",
     "text": [
      "       year   state  pop  debt\n",
      "one    2000    ohio  1.5  12.4\n",
      "two    2001    ohio  1.7  12.4\n",
      "three  2002    ohio  3.6  12.4\n",
      "four   2001  nevada  2.4  12.4\n",
      "five   2002  nevada  2.9  12.4\n",
      "six    2003  nevada  3.2  12.4\n"
     ]
    }
   ],
   "source": [
    "frame2['debt']=12.4\n",
    "print(frame2)"
   ]
  },
  {
   "cell_type": "raw",
   "id": "ec9150b3-5b9c-4049-959a-088a9d522bf5",
   "metadata": {},
   "source": [
    "obj=pd.Series([4.5,7.2,-5.3,3.6],index=['d','b','a','c'])\n",
    "print(obj)\n",
    "obj2=obj.reindex(['a','b','c','d','e'])\n",
    "obj2"
   ]
  },
  {
   "cell_type": "markdown",
   "id": "a407cfec-1346-421a-a9cc-2f19b0159ca6",
   "metadata": {},
   "source": []
  },
  {
   "cell_type": "raw",
   "id": "00e6029c-3a69-46f1-87a6-bba9903de8ec",
   "metadata": {},
   "source": []
  },
  {
   "cell_type": "code",
   "execution_count": 25,
   "id": "eef12bfe-029d-4112-83b4-8127d05eafff",
   "metadata": {},
   "outputs": [
    {
     "name": "stdout",
     "output_type": "stream",
     "text": [
      "d    4.5\n",
      "b    7.2\n",
      "a   -5.3\n",
      "c    3.6\n",
      "dtype: float64\n"
     ]
    },
    {
     "data": {
      "text/plain": [
       "a   -5.3\n",
       "b    7.2\n",
       "c    3.6\n",
       "d    4.5\n",
       "e    NaN\n",
       "dtype: float64"
      ]
     },
     "execution_count": 25,
     "metadata": {},
     "output_type": "execute_result"
    }
   ],
   "source": [
    "obj=pd.Series([4.5,7.2,-5.3,3.6],index=['d','b','a','c'])\n",
    "print(obj)\n",
    "obj2=obj.reindex(['a','b','c','d','e'])\n",
    "obj2"
   ]
  },
  {
   "cell_type": "code",
   "execution_count": 30,
   "id": "36604c79-c2df-4693-8b73-d26e97dbbcd5",
   "metadata": {},
   "outputs": [
    {
     "name": "stdout",
     "output_type": "stream",
     "text": [
      "0      blue\n",
      "2    purple\n",
      "4    yellow\n",
      "dtype: object\n"
     ]
    },
    {
     "data": {
      "text/plain": [
       "0      blue\n",
       "1      blue\n",
       "2    purple\n",
       "3    purple\n",
       "4    yellow\n",
       "5    yellow\n",
       "dtype: object"
      ]
     },
     "execution_count": 30,
     "metadata": {},
     "output_type": "execute_result"
    }
   ],
   "source": [
    "obj3=pd.Series(['blue','purple','yellow'],index=[0,2,4])\n",
    "print(obj3)\n",
    "obj4=obj3.reindex(range(6),method='ffill')\n",
    "obj4"
   ]
  },
  {
   "cell_type": "code",
   "execution_count": 31,
   "id": "1df4e953-2b63-482f-bf0a-8b7b3ae900b7",
   "metadata": {},
   "outputs": [
    {
     "name": "stdout",
     "output_type": "stream",
     "text": [
      "Method='ffill':\n",
      "0      blue\n",
      "1      blue\n",
      "2    purple\n",
      "3    purple\n",
      "4    yellow\n",
      "5    yellow\n",
      "dtype: object\n"
     ]
    }
   ],
   "source": [
    "obj3=pd.Series(['blue','purple','yellow'],index=[0,2,4])\n",
    "obj4=obj3.reindex(range(6),method='ffill')\n",
    "print(\"Method='ffill':\")\n",
    "print(obj4)"
   ]
  },
  {
   "cell_type": "code",
   "execution_count": 32,
   "id": "dace5a64-a112-4646-a1c6-53a1cc8ae60f",
   "metadata": {},
   "outputs": [
    {
     "name": "stdout",
     "output_type": "stream",
     "text": [
      "\n",
      "Method='bffill':\n",
      "0      blue\n",
      "1      blue\n",
      "2    purple\n",
      "3    purple\n",
      "4    yellow\n",
      "5    yellow\n",
      "dtype: object\n"
     ]
    }
   ],
   "source": [
    "obj5=obj3.reindex(range(6),method='ffill')\n",
    "print(\"\\nMethod='bffill':\")\n",
    "print(obj5)"
   ]
  },
  {
   "cell_type": "code",
   "execution_count": 33,
   "id": "76218366-f452-48c9-9fa1-ea70330ac46e",
   "metadata": {},
   "outputs": [
    {
     "name": "stdout",
     "output_type": "stream",
     "text": [
      "\n",
      "Fill value:\n",
      "0      blue\n",
      "1       red\n",
      "2    purple\n",
      "3       red\n",
      "4    yellow\n",
      "5       red\n",
      "dtype: object\n"
     ]
    }
   ],
   "source": [
    "obj6=obj3.reindex(range(6),fill_value='red')\n",
    "print(\"\\nFill value:\")\n",
    "print(obj6)"
   ]
  },
  {
   "cell_type": "code",
   "execution_count": 38,
   "id": "1ccf5372-2f4e-42d6-b537-42e93a5238f6",
   "metadata": {},
   "outputs": [
    {
     "name": "stdout",
     "output_type": "stream",
     "text": [
      "a    0.0\n",
      "b    1.0\n",
      "d    3.0\n",
      "e    4.0\n",
      "dtype: float64\n"
     ]
    },
    {
     "data": {
      "text/plain": [
       "a    0.0\n",
       "b    1.0\n",
       "e    4.0\n",
       "dtype: float64"
      ]
     },
     "execution_count": 38,
     "metadata": {},
     "output_type": "execute_result"
    }
   ],
   "source": [
    "import numpy as np\n",
    "obj=pd.Series(np.arange(5.),index=['a','b','c','d','e'])\n",
    "new_obj=obj.drop('c')\n",
    "print(new_obj)\n",
    "obj.drop(['d','c'])"
   ]
  },
  {
   "cell_type": "code",
   "execution_count": 40,
   "id": "b237461d-1232-4506-81c1-1397248f5bbb",
   "metadata": {},
   "outputs": [
    {
     "name": "stdout",
     "output_type": "stream",
     "text": [
      "obj['b']=\n",
      " 1.0\n",
      "obj[1]=\n",
      " 1.0\n",
      "obj[2:4]=\n",
      " c    2.0\n",
      "d    3.0\n",
      "dtype: float64\n",
      "obj[obj]<2=\n",
      " a    0.0\n",
      "b    1.0\n",
      "dtype: float64\n"
     ]
    },
    {
     "name": "stderr",
     "output_type": "stream",
     "text": [
      "C:\\Users\\dell\\AppData\\Local\\Temp\\ipykernel_10696\\1435247328.py:3: FutureWarning: Series.__getitem__ treating keys as positions is deprecated. In a future version, integer keys will always be treated as labels (consistent with DataFrame behavior). To access a value by position, use `ser.iloc[pos]`\n",
      "  print(\"obj[1]=\\n\",obj[1])\n"
     ]
    }
   ],
   "source": [
    "obj=pd.Series(np.arange(4.),index=['a','b','c','d'])\n",
    "print(\"obj['b']=\\n\",obj['b'])\n",
    "print(\"obj[1]=\\n\",obj[1])\n",
    "print(\"obj[2:4]=\\n\",obj[2:4])\n",
    "print(\"obj[obj]<2=\\n\",obj[obj<2])"
   ]
  },
  {
   "cell_type": "code",
   "execution_count": 41,
   "id": "ae75d42a-6494-45f3-8744-58dabe48826f",
   "metadata": {},
   "outputs": [
    {
     "data": {
      "text/plain": [
       "Ohio         1\n",
       "Dallas       5\n",
       "Boston       9\n",
       "NJ          13\n",
       "New York    17\n",
       "Austin      21\n",
       "Name: two, dtype: int64"
      ]
     },
     "execution_count": 41,
     "metadata": {},
     "output_type": "execute_result"
    }
   ],
   "source": [
    "data=pd.DataFrame(np.arange(24).reshape((6,4)),\n",
    "                  index=['Ohio','Dallas','Boston','NJ','New York','Austin'],\n",
    "                  columns=['one','two','three','four'])\n",
    "data\n",
    "data['two']\n"
   ]
  },
  {
   "cell_type": "code",
   "execution_count": 42,
   "id": "87ae1c4e-d706-4602-9deb-1678c9988082",
   "metadata": {},
   "outputs": [
    {
     "data": {
      "text/plain": [
       "two      5\n",
       "three    6\n",
       "Name: Dallas, dtype: int64"
      ]
     },
     "execution_count": 42,
     "metadata": {},
     "output_type": "execute_result"
    }
   ],
   "source": [
    "data[1:5]\n",
    "data.loc['Dallas',['two','three']]"
   ]
  },
  {
   "cell_type": "code",
   "execution_count": 43,
   "id": "9c879355-69de-4448-ab27-39808dcdf585",
   "metadata": {},
   "outputs": [
    {
     "name": "stdout",
     "output_type": "stream",
     "text": [
      "Ohio        False\n",
      "Dallas       True\n",
      "Boston       True\n",
      "NJ           True\n",
      "New York     True\n",
      "Austin       True\n",
      "Name: three, dtype: bool\n"
     ]
    },
    {
     "data": {
      "text/html": [
       "<div>\n",
       "<style scoped>\n",
       "    .dataframe tbody tr th:only-of-type {\n",
       "        vertical-align: middle;\n",
       "    }\n",
       "\n",
       "    .dataframe tbody tr th {\n",
       "        vertical-align: top;\n",
       "    }\n",
       "\n",
       "    .dataframe thead th {\n",
       "        text-align: right;\n",
       "    }\n",
       "</style>\n",
       "<table border=\"1\" class=\"dataframe\">\n",
       "  <thead>\n",
       "    <tr style=\"text-align: right;\">\n",
       "      <th></th>\n",
       "      <th>one</th>\n",
       "      <th>two</th>\n",
       "      <th>three</th>\n",
       "      <th>four</th>\n",
       "    </tr>\n",
       "  </thead>\n",
       "  <tbody>\n",
       "    <tr>\n",
       "      <th>Dallas</th>\n",
       "      <td>4</td>\n",
       "      <td>5</td>\n",
       "      <td>6</td>\n",
       "      <td>7</td>\n",
       "    </tr>\n",
       "    <tr>\n",
       "      <th>Boston</th>\n",
       "      <td>8</td>\n",
       "      <td>9</td>\n",
       "      <td>10</td>\n",
       "      <td>11</td>\n",
       "    </tr>\n",
       "    <tr>\n",
       "      <th>NJ</th>\n",
       "      <td>12</td>\n",
       "      <td>13</td>\n",
       "      <td>14</td>\n",
       "      <td>15</td>\n",
       "    </tr>\n",
       "    <tr>\n",
       "      <th>New York</th>\n",
       "      <td>16</td>\n",
       "      <td>17</td>\n",
       "      <td>18</td>\n",
       "      <td>19</td>\n",
       "    </tr>\n",
       "    <tr>\n",
       "      <th>Austin</th>\n",
       "      <td>20</td>\n",
       "      <td>21</td>\n",
       "      <td>22</td>\n",
       "      <td>23</td>\n",
       "    </tr>\n",
       "  </tbody>\n",
       "</table>\n",
       "</div>"
      ],
      "text/plain": [
       "          one  two  three  four\n",
       "Dallas      4    5      6     7\n",
       "Boston      8    9     10    11\n",
       "NJ         12   13     14    15\n",
       "New York   16   17     18    19\n",
       "Austin     20   21     22    23"
      ]
     },
     "execution_count": 43,
     "metadata": {},
     "output_type": "execute_result"
    }
   ],
   "source": [
    "print(data.three>5)\n",
    "data[data.three>5]"
   ]
  },
  {
   "cell_type": "code",
   "execution_count": 44,
   "id": "7d3c37eb-49d5-4ca7-9b6d-7206ddafe861",
   "metadata": {},
   "outputs": [
    {
     "data": {
      "text/html": [
       "<div>\n",
       "<style scoped>\n",
       "    .dataframe tbody tr th:only-of-type {\n",
       "        vertical-align: middle;\n",
       "    }\n",
       "\n",
       "    .dataframe tbody tr th {\n",
       "        vertical-align: top;\n",
       "    }\n",
       "\n",
       "    .dataframe thead th {\n",
       "        text-align: right;\n",
       "    }\n",
       "</style>\n",
       "<table border=\"1\" class=\"dataframe\">\n",
       "  <thead>\n",
       "    <tr style=\"text-align: right;\">\n",
       "      <th></th>\n",
       "      <th>one</th>\n",
       "      <th>two</th>\n",
       "      <th>three</th>\n",
       "      <th>four</th>\n",
       "    </tr>\n",
       "  </thead>\n",
       "  <tbody>\n",
       "    <tr>\n",
       "      <th>Ohio</th>\n",
       "      <td>0</td>\n",
       "      <td>0</td>\n",
       "      <td>0</td>\n",
       "      <td>0</td>\n",
       "    </tr>\n",
       "    <tr>\n",
       "      <th>Dallas</th>\n",
       "      <td>0</td>\n",
       "      <td>5</td>\n",
       "      <td>6</td>\n",
       "      <td>7</td>\n",
       "    </tr>\n",
       "    <tr>\n",
       "      <th>Boston</th>\n",
       "      <td>8</td>\n",
       "      <td>9</td>\n",
       "      <td>10</td>\n",
       "      <td>11</td>\n",
       "    </tr>\n",
       "    <tr>\n",
       "      <th>NJ</th>\n",
       "      <td>12</td>\n",
       "      <td>13</td>\n",
       "      <td>14</td>\n",
       "      <td>15</td>\n",
       "    </tr>\n",
       "    <tr>\n",
       "      <th>New York</th>\n",
       "      <td>16</td>\n",
       "      <td>17</td>\n",
       "      <td>18</td>\n",
       "      <td>19</td>\n",
       "    </tr>\n",
       "    <tr>\n",
       "      <th>Austin</th>\n",
       "      <td>20</td>\n",
       "      <td>21</td>\n",
       "      <td>22</td>\n",
       "      <td>23</td>\n",
       "    </tr>\n",
       "  </tbody>\n",
       "</table>\n",
       "</div>"
      ],
      "text/plain": [
       "          one  two  three  four\n",
       "Ohio        0    0      0     0\n",
       "Dallas      0    5      6     7\n",
       "Boston      8    9     10    11\n",
       "NJ         12   13     14    15\n",
       "New York   16   17     18    19\n",
       "Austin     20   21     22    23"
      ]
     },
     "execution_count": 44,
     "metadata": {},
     "output_type": "execute_result"
    }
   ],
   "source": [
    "data>5\n",
    "data[data<5]=0\n",
    "data"
   ]
  },
  {
   "cell_type": "code",
   "execution_count": 45,
   "id": "1bbf20fe-0b5e-4c1e-9e52-e14187b985aa",
   "metadata": {},
   "outputs": [
    {
     "name": "stdout",
     "output_type": "stream",
     "text": [
      "a    1\n",
      "b    2\n",
      "c    3\n",
      "d    0\n",
      "dtype: int64\n"
     ]
    }
   ],
   "source": [
    "obj=pd.Series(range(4),index=['d','a','b','c'])\n",
    "df_sort_series=obj.sort_index()\n",
    "print(df_sort_series)"
   ]
  },
  {
   "cell_type": "code",
   "execution_count": 49,
   "id": "3ad428a4-06a4-4a84-9391-95ce7ba90747",
   "metadata": {},
   "outputs": [
    {
     "name": "stdout",
     "output_type": "stream",
     "text": [
      "I\n",
      "        d  a  b  c\n",
      "one    4  5  6  7\n",
      "three  0  1  2  3\n"
     ]
    }
   ],
   "source": [
    "frame=pd.DataFrame(np.arange(8).reshape((2,4)),\n",
    "                   index=['three','one'],\n",
    "                   columns=['d','a','b','c'])\n",
    "df_sort_dataframe=frame.sort_index()\n",
    "print(\"I\\n\",df_sort_dataframe)"
   ]
  },
  {
   "cell_type": "code",
   "execution_count": 50,
   "id": "6a2ab740-5f59-48fc-b7dd-579dac8ebc77",
   "metadata": {},
   "outputs": [
    {
     "name": "stdout",
     "output_type": "stream",
     "text": [
      "II\n",
      "        a  b  c  d\n",
      "three  1  2  3  0\n",
      "one    5  6  7  4\n"
     ]
    }
   ],
   "source": [
    "df_sort_dataframe_axis1=frame.sort_index(axis=1)\n",
    "print(\"II\\n\",df_sort_dataframe_axis1)"
   ]
  },
  {
   "cell_type": "code",
   "execution_count": 52,
   "id": "53a106de-ea35-46c2-83f5-6fde953b4a89",
   "metadata": {},
   "outputs": [
    {
     "name": "stdout",
     "output_type": "stream",
     "text": [
      "III\n",
      "        d  c  b  a\n",
      "three  0  3  2  1\n",
      "one    4  7  6  5\n"
     ]
    }
   ],
   "source": [
    "df_sort_dataframe_ascending=frame.sort_index(axis=1,ascending=False)\n",
    "print(\"III\\n\",df_sort_dataframe_ascending)"
   ]
  },
  {
   "cell_type": "code",
   "execution_count": 53,
   "id": "088c3f9d-46b0-495c-966a-6ae5d138e078",
   "metadata": {},
   "outputs": [
    {
     "name": "stdout",
     "output_type": "stream",
     "text": [
      "Rank\n",
      " 0    5.5\n",
      "1    1.0\n",
      "2    5.5\n",
      "3    4.0\n",
      "4    3.0\n",
      "5    2.0\n",
      "dtype: float64\n"
     ]
    }
   ],
   "source": [
    "obj=pd.Series([7,-5,7,3,2,0.4])\n",
    "df_rank=obj.rank()\n",
    "print(\"Rank\\n\",df_rank)"
   ]
  },
  {
   "cell_type": "code",
   "execution_count": 56,
   "id": "6e632d85-b657-475e-a335-89dfa26d1afe",
   "metadata": {},
   "outputs": [
    {
     "name": "stdout",
     "output_type": "stream",
     "text": [
      "rank-Method=first\n",
      " 0    5.0\n",
      "1    1.0\n",
      "2    6.0\n",
      "3    4.0\n",
      "4    3.0\n",
      "5    2.0\n",
      "dtype: float64\n"
     ]
    }
   ],
   "source": [
    "df_rank_method_first=obj.rank(method='first')\n",
    "print(\"rank-Method=first\\n\",df_rank_method_first)"
   ]
  },
  {
   "cell_type": "code",
   "execution_count": 57,
   "id": "2c467748-687f-4f0f-b0e0-c80feb25384c",
   "metadata": {},
   "outputs": [
    {
     "name": "stdout",
     "output_type": "stream",
     "text": [
      "Rank over columns\n",
      "          d    a    b    c\n",
      "three  1.0  2.0  3.0  4.0\n",
      "one    1.0  2.0  3.0  4.0\n"
     ]
    }
   ],
   "source": [
    "df_rank_dataframe=frame.rank(axis='columns')\n",
    "print(\"Rank over columns\\n\",df_rank_dataframe)"
   ]
  },
  {
   "cell_type": "code",
   "execution_count": null,
   "id": "cacd547a-f72b-4f81-95ff-404cc81ded37",
   "metadata": {},
   "outputs": [],
   "source": []
  }
 ],
 "metadata": {
  "kernelspec": {
   "display_name": "Python 3 (ipykernel)",
   "language": "python",
   "name": "python3"
  },
  "language_info": {
   "codemirror_mode": {
    "name": "ipython",
    "version": 3
   },
   "file_extension": ".py",
   "mimetype": "text/x-python",
   "name": "python",
   "nbconvert_exporter": "python",
   "pygments_lexer": "ipython3",
   "version": "3.13.5"
  }
 },
 "nbformat": 4,
 "nbformat_minor": 5
}
