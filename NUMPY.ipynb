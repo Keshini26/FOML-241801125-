{
 "cells": [
  {
   "cell_type": "code",
   "execution_count": 1,
   "id": "65f37c60-b857-45c2-be10-fcf2a49546c7",
   "metadata": {},
   "outputs": [
    {
     "name": "stdout",
     "output_type": "stream",
     "text": [
      "[1 2 3 4 5]\n"
     ]
    }
   ],
   "source": [
    "import numpy as np\n",
    "arr=np.array([1,2,3,4,5])\n",
    "print(arr)\n"
   ]
  },
  {
   "cell_type": "code",
   "execution_count": 2,
   "id": "f409501d-f619-4210-afa5-65d024897891",
   "metadata": {},
   "outputs": [
    {
     "name": "stdout",
     "output_type": "stream",
     "text": [
      "42\n"
     ]
    }
   ],
   "source": [
    "arr=np.array(42)\n",
    "print(arr)\n"
   ]
  },
  {
   "cell_type": "code",
   "execution_count": 4,
   "id": "2760f88e-916a-4900-ab10-0c074022ae84",
   "metadata": {},
   "outputs": [
    {
     "name": "stdout",
     "output_type": "stream",
     "text": [
      "[[1 2 3]\n",
      " [4 5 6]]\n"
     ]
    }
   ],
   "source": [
    "arr=np.array([[1,2,3],[4,5,6]])\n",
    "print(arr)"
   ]
  },
  {
   "cell_type": "code",
   "execution_count": 5,
   "id": "cedfcd98-b2c6-4e4b-b631-f42c545a6f7a",
   "metadata": {},
   "outputs": [
    {
     "name": "stdout",
     "output_type": "stream",
     "text": [
      "[[[1 2 3]\n",
      "  [4 5 6]]\n",
      "\n",
      " [[1 2 3]\n",
      "  [4 5 6]]]\n"
     ]
    }
   ],
   "source": [
    "arr=np.array([[[1,2,3],[4,5,6]],[[1,2,3],[4,5,6]]])\n",
    "print(arr)"
   ]
  },
  {
   "cell_type": "code",
   "execution_count": 9,
   "id": "e4f2f8c7-7261-4df3-b4b7-993370d69f75",
   "metadata": {},
   "outputs": [
    {
     "name": "stdout",
     "output_type": "stream",
     "text": [
      "[[0. 0.]\n",
      " [0. 0.]\n",
      " [0. 0.]\n",
      " [0. 0.]\n",
      " [0. 0.]]\n",
      "[[0. 0. 0.]\n",
      " [0. 0. 0.]]\n",
      "Data type of the array: float64\n"
     ]
    }
   ],
   "source": [
    "zeros_arr=np.zeros((5,2))\n",
    "eros_arr=np.zeros(5)\n",
    "print(zeros_arr)\n",
    "zeros_arr=np.zeros((2,3))\n",
    "print(zeros_arr)\n",
    "print(\"Data type of the array:\",zeros_arr.dtype)"
   ]
  },
  {
   "cell_type": "code",
   "execution_count": 10,
   "id": "221ff8e7-459b-4414-917f-ba92430f52f5",
   "metadata": {},
   "outputs": [
    {
     "name": "stdout",
     "output_type": "stream",
     "text": [
      "[1. 1. 1. 1. 1. 1.]\n",
      "[[1. 1.]\n",
      " [1. 1.]\n",
      " [1. 1.]]\n"
     ]
    }
   ],
   "source": [
    "ones_arr=np.ones(6)\n",
    "print(ones_arr)\n",
    "empty_arr=np.empty((3,2))\n",
    "print(empty_arr)"
   ]
  },
  {
   "cell_type": "code",
   "execution_count": 11,
   "id": "0e204be6-f1c1-40ab-acd6-329e79aefc4e",
   "metadata": {},
   "outputs": [
    {
     "name": "stdout",
     "output_type": "stream",
     "text": [
      "[[1. 0. 0.]\n",
      " [0. 1. 0.]\n",
      " [0. 0. 1.]]\n",
      "\n",
      " [[1. 0. 0. 0.]\n",
      " [0. 1. 0. 0.]\n",
      " [0. 0. 1. 0.]\n",
      " [0. 0. 0. 1.]]\n"
     ]
    }
   ],
   "source": [
    "identity_matrix=np.eye(3)\n",
    "print(identity_matrix)\n",
    "identity_matrix=np.eye(4)\n",
    "print(\"\\n\",identity_matrix)"
   ]
  },
  {
   "cell_type": "code",
   "execution_count": 13,
   "id": "d2fa191a-0639-440c-ac13-6ffc0199c211",
   "metadata": {},
   "outputs": [
    {
     "name": "stdout",
     "output_type": "stream",
     "text": [
      "float64\n",
      "int32\n"
     ]
    }
   ],
   "source": [
    "arr1=np.array([1,2,3],dtype=np.float64)\n",
    "arr2=np.array([1,2,3],dtype=np.int32)\n",
    "print(arr1.dtype)\n",
    "print(arr2.dtype)"
   ]
  },
  {
   "cell_type": "code",
   "execution_count": 14,
   "id": "25461787-d147-42ce-97ae-c121ba93b588",
   "metadata": {},
   "outputs": [
    {
     "name": "stdout",
     "output_type": "stream",
     "text": [
      "Before converting: [1 2 3] int64\n",
      "After converting [1. 2. 3.] float32\n"
     ]
    }
   ],
   "source": [
    "arr=np.array([1,2,3])\n",
    "print(\"Before converting:\",arr,arr.dtype)\n",
    "new_arr=arr.astype('f')\n",
    "print(\"After converting\",new_arr,new_arr.dtype)"
   ]
  },
  {
   "cell_type": "code",
   "execution_count": 16,
   "id": "36156c74-1a04-4179-9b39-ae39412feab7",
   "metadata": {},
   "outputs": [
    {
     "name": "stdout",
     "output_type": "stream",
     "text": [
      "array 1\n",
      " [0 1 2 3 4 5 6 7 8 9] int64\n",
      "array 1\n",
      " [-0.92404342 -1.58525442  2.1071646   1.07436552  1.51738877  1.31901389\n",
      " -1.28864665  0.37672548 -0.05361504  0.21005958] float64\n",
      "New Array \n",
      " [0. 1. 2. 3. 4. 5. 6. 7. 8. 9.] float64\n"
     ]
    }
   ],
   "source": [
    "arr1=np.arange(10)\n",
    "arr2=np.random.randn(10)\n",
    "print(\"array 1\\n\",arr1,arr1.dtype)\n",
    "print(\"array 1\\n\",arr2,arr2.dtype)\n",
    "new_arr=arr1.astype(arr2.dtype)\n",
    "print(\"New Array \\n\",new_arr,new_arr.dtype)"
   ]
  },
  {
   "cell_type": "code",
   "execution_count": 17,
   "id": "53acf9a7-cb9c-4103-8178-ba0ed85ed4d5",
   "metadata": {},
   "outputs": [
    {
     "name": "stdout",
     "output_type": "stream",
     "text": [
      "['hello' 'world' 'numpy']\n"
     ]
    }
   ],
   "source": [
    "str_arr=np.array(['hello','world','numpy'])\n",
    "print(str_arr)"
   ]
  },
  {
   "cell_type": "code",
   "execution_count": 18,
   "id": "29c1f3f2-c143-4683-9ddb-866a299136fa",
   "metadata": {},
   "outputs": [
    {
     "name": "stdout",
     "output_type": "stream",
     "text": [
      "[ 6.  8. 10. 12.]\n",
      "[-4. -4. -4. -4.]\n",
      "[ 5. 12. 21. 32.]\n",
      "[0.2        0.33333333 0.42857143 0.5       ]\n",
      "[1.0000e+00 6.4000e+01 2.1870e+03 6.5536e+04]\n"
     ]
    }
   ],
   "source": [
    "import numpy as np\n",
    "a=np.array([1.,2.,3.,4.])\n",
    "b=np.array([5.,6.,7.,8.])\n",
    "print(a+b)\n",
    "print(a-b)\n",
    "print(a*b)\n",
    "print(a/b)\n",
    "print(a**b)"
   ]
  },
  {
   "cell_type": "code",
   "execution_count": 19,
   "id": "2f0f4531-409f-4878-9567-18d99f0311b4",
   "metadata": {},
   "outputs": [
    {
     "name": "stdout",
     "output_type": "stream",
     "text": [
      "[[ 0  1  2]\n",
      " [ 3  4  5]\n",
      " [ 6  7  8]\n",
      " [ 9 10 11]]\n",
      "\n",
      " [[ 0  4  8]\n",
      " [ 1  5  9]\n",
      " [ 2  6 10]\n",
      " [ 3  7 11]]\n"
     ]
    }
   ],
   "source": [
    "import numpy as np\n",
    "arr=np.arange(12)\n",
    "newarr=arr.reshape(4,3)\n",
    "print(newarr)\n",
    "newarr=arr.reshape((4,3),order='F')\n",
    "print(\"\\n\",newarr)                   "
   ]
  },
  {
   "cell_type": "code",
   "execution_count": 24,
   "id": "6228d9d7-6fd5-4bde-a5ac-698d28bc220f",
   "metadata": {},
   "outputs": [
    {
     "name": "stdout",
     "output_type": "stream",
     "text": [
      "[[ 1  2  3  4  9 10]\n",
      " [ 5  6  7  8 11 12]]\n",
      "\n",
      " [[[ 1  2]\n",
      "  [ 3  4]]\n",
      "\n",
      " [[ 9 10]\n",
      "  [ 5  6]]\n",
      "\n",
      " [[ 7  8]\n",
      "  [11 12]]]\n",
      "\n",
      " reshape(3,-1) \n",
      " [[ 1  2  3  4]\n",
      " [ 9 10  5  6]\n",
      " [ 7  8 11 12]]\n"
     ]
    }
   ],
   "source": [
    "arr=np.array([[1,2,3,4,9,10],[5,6,7,8,11,12]])\n",
    "print(arr)\n",
    "newarr=arr.reshape(3,2,2)\n",
    "print(\"\\n\",newarr)\n",
    "newarr1=newarr.reshape(3,-1)\n",
    "print(\"\\n reshape(3,-1) \\n\",newarr1)"
   ]
  },
  {
   "cell_type": "code",
   "execution_count": 23,
   "id": "155bf1c5-0148-4738-bbbf-8b2a27fbeff6",
   "metadata": {},
   "outputs": [
    {
     "name": "stdout",
     "output_type": "stream",
     "text": [
      "Original array:\n",
      " [[10 20]\n",
      " [30 40]]\n",
      "Flattened array:\n",
      " [999  20  30  40]\n",
      "Original array:\n",
      " [[10 20]\n",
      " [30 40]]\n",
      "Ravelled array:\n",
      " [ 10 888  30  40]\n",
      "Original array:\n",
      " [[ 10 888]\n",
      " [ 30  40]]\n"
     ]
    }
   ],
   "source": [
    "original_arr=np.array([[10,20],[30,40]])\n",
    "print(\"Original array:\\n\",original_arr)\n",
    "flattened_arr=original_arr.flatten()\n",
    "flattened_arr[0]=999\n",
    "print(\"Flattened array:\\n\",flattened_arr)\n",
    "print(\"Original array:\\n\",original_arr)\n",
    "raveled_array=original_arr.ravel()\n",
    "raveled_array[1]=888\n",
    "print(\"Ravelled array:\\n\",raveled_array)\n",
    "print(\"Original array:\\n\",original_arr)"
   ]
  },
  {
   "cell_type": "code",
   "execution_count": 25,
   "id": "072d803a-f2b1-45e6-a6e9-86f019036ac6",
   "metadata": {},
   "outputs": [
    {
     "name": "stdout",
     "output_type": "stream",
     "text": [
      "Greater than:\n",
      " [[False  True]\n",
      " [False False]]\n",
      "\n",
      "Lesser than:\n",
      " [[ True False]\n",
      " [False  True]]\n",
      "\n",
      "Equal to:\n",
      " [[2 1]\n",
      " [3 5]]\n"
     ]
    }
   ],
   "source": [
    "arr1=np.array([[1,2],[3,4]])\n",
    "arr2=np.array([[2,1],[3,5]])\n",
    "greater_than=arr1>arr2\n",
    "less=arr1<arr2\n",
    "equal=arr1=arr2\n",
    "print(\"Greater than:\\n\",greater_than)\n",
    "print(\"\\nLesser than:\\n\",less)\n",
    "print(\"\\nEqual to:\\n\",equal)"
   ]
  },
  {
   "cell_type": "code",
   "execution_count": 26,
   "id": "29966f67-bc68-4b00-ab92-36206f51de70",
   "metadata": {},
   "outputs": [
    {
     "name": "stdout",
     "output_type": "stream",
     "text": [
      "x= [0 1 2 3 4 5 6 7 8 9]\n",
      "\n",
      " x[:5]= [0 1 2 3 4]\n",
      "\n",
      " x[4:7]= [4 5 6]\n",
      "\n",
      " x[::2]= [0 2 4 6 8]\n"
     ]
    }
   ],
   "source": [
    "x=np.arange(10)\n",
    "print(\"x=\",x)\n",
    "print(\"\\n x[:5]=\",x[:5])\n",
    "print(\"\\n x[4:7]=\",x[4:7])\n",
    "print(\"\\n x[::2]=\",x[::2])"
   ]
  },
  {
   "cell_type": "code",
   "execution_count": 28,
   "id": "990a80b6-25d4-4e38-8729-648adc822090",
   "metadata": {},
   "outputs": [
    {
     "name": "stdout",
     "output_type": "stream",
     "text": [
      "[0 1 2 3 4 5 6 7 8 9]\n",
      "\n",
      " After broadcasting1 [2 2 2 2 2 5 6 7 8 9]\n",
      "\n",
      " After broadcasting2 [100   2 100   2 100   5 100   7 100   9]\n"
     ]
    }
   ],
   "source": [
    "x=np.arange(10)\n",
    "print(x)\n",
    "x[:5]=2\n",
    "print(\"\\n After broadcasting1\",x)\n",
    "x[::2]=100\n",
    "print(\"\\n After broadcasting2\",x)"
   ]
  },
  {
   "cell_type": "code",
   "execution_count": 29,
   "id": "40fede1a-7de5-44de-b24b-d323f38d344e",
   "metadata": {},
   "outputs": [
    {
     "name": "stdout",
     "output_type": "stream",
     "text": [
      "[12  5  2  4]\n"
     ]
    }
   ],
   "source": [
    "x2=np.array([[12,5,2,4],\n",
    "             [7,6,8,8],\n",
    "             [1,6,7,7]])\n",
    "print(x2[0])"
   ]
  },
  {
   "cell_type": "code",
   "execution_count": 31,
   "id": "158fb9de-feb5-4623-b37a-501161be4680",
   "metadata": {},
   "outputs": [
    {
     "name": "stdout",
     "output_type": "stream",
     "text": [
      "\n",
      " x2[:2,:3]=\n",
      " [[12  5  2]\n",
      " [ 7  6  8]]\n"
     ]
    }
   ],
   "source": [
    "x2=np.array([[12,5,2,4],[7,6,8,8],[1,6,7,7]])\n",
    "print(\"\\n x2[:2,:3]=\\n\",x2[:2,:3])"
   ]
  },
  {
   "cell_type": "code",
   "execution_count": 34,
   "id": "2a8c4ea1-018d-487d-9f58-0ef17866618f",
   "metadata": {},
   "outputs": [
    {
     "name": "stdout",
     "output_type": "stream",
     "text": [
      "a=\n",
      " [[ 0  1  2  3]\n",
      " [ 4  5  6  7]\n",
      " [ 8  9 10 11]]\n",
      "b=\n",
      " [[False False False False]\n",
      " [False  True  True  True]\n",
      " [ True  True  True  True]]\n",
      "a[b]=\n",
      " [ 5  6  7  8  9 10 11]\n",
      "a=\n",
      " [[0 1 2 3]\n",
      " [4 1 1 1]\n",
      " [1 1 1 1]]\n"
     ]
    }
   ],
   "source": [
    "a=np.arange(12).reshape(3,4)\n",
    "print(\"a=\\n\",a)\n",
    "b=a>4\n",
    "print(\"b=\\n\",b)\n",
    "print(\"a[b]=\\n\",a[b])\n",
    "a[b]=1\n",
    "print(\"a=\\n\",a)"
   ]
  },
  {
   "cell_type": "code",
   "execution_count": 35,
   "id": "e2c2cd40-2c29-48ca-a182-34955de91a5a",
   "metadata": {},
   "outputs": [
    {
     "name": "stdout",
     "output_type": "stream",
     "text": [
      "[[ 0  1  2  3]\n",
      " [ 4  5  6  7]\n",
      " [ 8  9 10 11]]\n",
      "Transposing using .T\n",
      "[[ 0  4  8]\n",
      " [ 1  5  9]\n",
      " [ 2  6 10]\n",
      " [ 3  7 11]]\n",
      "Transpose using the transposal() function\n",
      "[[ 0  4  8]\n",
      " [ 1  5  9]\n",
      " [ 2  6 10]\n",
      " [ 3  7 11]]\n"
     ]
    }
   ],
   "source": [
    "arr=np.arange(12).reshape((3,4))\n",
    "\\print(arr)\n",
    "print(\"Transposing using .T\")\n",
    "print(arr.T)\n",
    "print(\"Transpose using the transposal() function\")\n",
    "print(np.transpose(arr))"
   ]
  },
  {
   "cell_type": "code",
   "execution_count": 36,
   "id": "edd8cd26-7e55-47c6-912b-0255c4a2206c",
   "metadata": {},
   "outputs": [
    {
     "name": "stdout",
     "output_type": "stream",
     "text": [
      "[[ 14  38  62]\n",
      " [ 38 126 214]\n",
      " [ 62 214 366]]\n"
     ]
    }
   ],
   "source": [
    "arr=np.arange(12).reshape((3,4))\n",
    "print(np.dot(arr,arr.T))"
   ]
  },
  {
   "cell_type": "code",
   "execution_count": 37,
   "id": "8ac20b81-1d8e-4e38-a24b-eed5110a3535",
   "metadata": {},
   "outputs": [
    {
     "name": "stdout",
     "output_type": "stream",
     "text": [
      "[[ 0  1  2  3]\n",
      " [ 4  5  6  7]\n",
      " [ 8  9 10 11]]\n",
      "[[ 0  4  8]\n",
      " [ 1  5  9]\n",
      " [ 2  6 10]\n",
      " [ 3  7 11]]\n"
     ]
    }
   ],
   "source": [
    "arr=np.arange(12).reshape((3,4))\n",
    "print(arr)\n",
    "print(np.swapaxes(arr,0,1))\n"
   ]
  },
  {
   "cell_type": "code",
   "execution_count": 38,
   "id": "2ca61cb0-8531-42d2-850d-93e95ac97c82",
   "metadata": {},
   "outputs": [
    {
     "name": "stdout",
     "output_type": "stream",
     "text": [
      "[[ 7  7]\n",
      " [21 28]]\n"
     ]
    }
   ],
   "source": [
    "result=np.dot(arr1,arr2)\n",
    "print(result)"
   ]
  },
  {
   "cell_type": "code",
   "execution_count": 40,
   "id": "6cb98ba3-91a0-41e8-ac51-79620b7395f8",
   "metadata": {},
   "outputs": [
    {
     "name": "stdout",
     "output_type": "stream",
     "text": [
      "[[ 7  7]\n",
      " [21 28]]\n"
     ]
    }
   ],
   "source": [
    "result=np.matmul(arr1,arr2)\n",
    "print(result)"
   ]
  },
  {
   "cell_type": "code",
   "execution_count": null,
   "id": "7d00ef2c-b03f-4c34-9a6c-331cfbe21781",
   "metadata": {},
   "outputs": [],
   "source": []
  }
 ],
 "metadata": {
  "kernelspec": {
   "display_name": "Python 3 (ipykernel)",
   "language": "python",
   "name": "python3"
  },
  "language_info": {
   "codemirror_mode": {
    "name": "ipython",
    "version": 3
   },
   "file_extension": ".py",
   "mimetype": "text/x-python",
   "name": "python",
   "nbconvert_exporter": "python",
   "pygments_lexer": "ipython3",
   "version": "3.13.5"
  }
 },
 "nbformat": 4,
 "nbformat_minor": 5
}
